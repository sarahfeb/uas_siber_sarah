{
  "nbformat": 4,
  "nbformat_minor": 0,
  "metadata": {
    "colab": {
      "provenance": []
    },
    "kernelspec": {
      "name": "python3",
      "display_name": "Python 3"
    },
    "language_info": {
      "name": "python"
    }
  },
  "cells": [
    {
      "cell_type": "markdown",
      "source": [
        "#UAS KEAMANAN SIBER\n",
        "\n",
        "Nama : Siti Sarah Febrihartina<BR>\n",
        "NIM : I.2310274"
      ],
      "metadata": {
        "id": "uQVfdwVGkr1d"
      }
    },
    {
      "cell_type": "markdown",
      "source": [
        "## 1. Perbedaan Reverse Proxy dan Forward Proxy"
      ],
      "metadata": {
        "id": "29HM92W-k3rm"
      }
    },
    {
      "cell_type": "markdown",
      "source": [
        "Menurut Xiao Guoan (linuxbabe.com), perbedaan keduanya adalah Reverse Proxy digunakan oleh server seperti server web, sedangkan Forward Proxy digunakan oleh klien seperti web browser.\n",
        "<br>\n",
        "Secara keamanan, Forward Proxy memberikan lapisan keamanan dengan menyembunyikan identitas klien, sedangkan Reverse proxy sebagai lapisan pertahanan antara klien dan server internal."
      ],
      "metadata": {
        "id": "XdRkTr69lDir"
      }
    },
    {
      "cell_type": "markdown",
      "source": [
        "## 2. Penjelasan Metasploit Framework dan Penggunaannya"
      ],
      "metadata": {
        "id": "Ahv2fM0rl0Kj"
      }
    },
    {
      "cell_type": "markdown",
      "source": [
        "Metasploit adalah tools keamanan komputer yang menyediakan data tentang kerentanan keamanan dan membantu pengujian penetrasi. Fungsi dari Metasploit Framework yang paling umum yaitu :\n",
        "\n",
        "\n",
        "*   MSFconsol : Berfungsi untuk menguji dan memindai sistem untuk menyerang, melakukan pengintaian jaringan, meluncurkan eksploitasi, dan lain sebagainya.\n",
        "*   Exploit Moduls : untuk menargetkan serangan tertentu yang diketahui.\n",
        "\n",
        "\n",
        "*   Auxiliary Modules : untuk melakukan tindakan tambahan yang diperlukan selama uji penetrasi yang tidak terkait dengan mengeksploitasi kerentanan secara langsung.\n",
        "*   Post-Exploitation Modules : menguji memperdalam akses mereka pada sistem target dan sistem yang terhubung.\n",
        "\n",
        "\n",
        "*   Payload Modules : Menyediakan kode shell yang berjalan setelah pengujian berhasil menembus sistem.\n",
        "<br> <br>\n",
        "Referensi : ZakaFahmi, 2022 (https://www.gabut-it.com/mengenal-apa-itu-metasploit-dan-fungsianya/)\n",
        "\n",
        "\n",
        "\n",
        "\n",
        "\n"
      ],
      "metadata": {
        "id": "gytPEPaMl-Rv"
      }
    },
    {
      "cell_type": "markdown",
      "source": [
        "## 3. Perbedaan Firewall, IDS, dan IPS"
      ],
      "metadata": {
        "id": "jqOwxyTEoMYR"
      }
    },
    {
      "cell_type": "markdown",
      "source": [
        "Perbedaan utamanya adalah, Firewall melakukan performs tindakan seperti memblokir dan menyaring lalu lintas sementara dan IPS/IDS mendeteksi dan memperingatkan administrator sistem atau mencegah serangan sesuai konfigurasi. Namun, perbedaan dari IDS dan IPS adalah tindakan yang mereka ambil ketika serangan terdeteksi dalam fase awalnya (pemindaian jaringan dan pemindaian port)\n",
        "\n",
        "<br><br>\n",
        "Referensi : https://imm.web.id/2018/11/firewall-vs-ids-vs-ips/"
      ],
      "metadata": {
        "id": "vwNvlLm7oS-f"
      }
    },
    {
      "cell_type": "markdown",
      "source": [
        "## 4. Apa itu GDPR (General Data Protection Regulation) dan PDP (Personal Data Protection)?"
      ],
      "metadata": {
        "id": "PtaE79GApLH5"
      }
    },
    {
      "cell_type": "markdown",
      "source": [
        "GDPR (Personal Data Protection) adalah Undang-Undang privasi dan keamanan terberat di dunia, disahkan oleh Uni Eropa, yang mewajibkan organisasi dimana put, selama mereka menargetkan atau mengumoulkan data terkait orang-orang di UE. GDPR akan mengenakan denda yang berat terhadap mereka yang melanggar privasi dan keamananya, dendanya mencapai puluhan juta euro.\n",
        "<br><br>\n",
        "Sedangkan PDP (Personal Data Protection) adalah\n",
        "Sebuah aturan yang mengacu untuk upaya perlindungan data pribadi atau individu  yang dirancang untuk memastikan bahwa informasi pribadi seseorang dijaga keamanannya dan tidak disalahgunakan\n",
        "<br><br>\n",
        "Referensi :<br>\n",
        "https://gdpr.eu/what-is-gdpr/ <br>\n"
      ],
      "metadata": {
        "id": "q0dgFfVepa6E"
      }
    },
    {
      "cell_type": "markdown",
      "source": [
        "## 5. Mengapa OWASP sering dijadikan acuan dalam konteks keamanan perangkat lunak?"
      ],
      "metadata": {
        "id": "9Pg-v9B9rtl9"
      }
    },
    {
      "cell_type": "markdown",
      "source": [
        "Menurut saya, karena OWASP merupakan organisasi yang bertujuan dalam melawan serangan siber atau kerentanan, mengidentifikasi, serta mengatasi masalah keamanan pada sebuah perangkat lunak, dalam hal ini khususnya web. OWASP juga menyediakan pedoman keamanan sehingga dapat lebih komprehensif dalam menangani sebuah kerentanan atau menjaga keamanan sistem."
      ],
      "metadata": {
        "id": "k5wQT9uIr7us"
      }
    }
  ]
}